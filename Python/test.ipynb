{
 "cells": [
  {
   "cell_type": "code",
   "execution_count": 10,
   "metadata": {},
   "outputs": [],
   "source": [
    "import flask as fs\n",
    "import re\n",
    "import requests\n",
    "from bs4 import BeautifulSoup\n",
    "import sys\n",
    "import platform\n",
    "from urllib.request import urlopen\n",
    "from urllib.parse import urlparse\n",
    "from bs4 import BeautifulSoup\n",
    "import datetime\n",
    "import random\n",
    "import re\n",
    "from urllib.request import urlopen\n",
    "from urllib.error import HTTPError\n",
    "from urllib.error import URLError\n",
    "import requests\n",
    "import re\n",
    "import pandas as pd\n",
    "import numpy as np\n",
    "import random"
   ]
  },
  {
   "cell_type": "code",
   "execution_count": 14,
   "metadata": {},
   "outputs": [],
   "source": [
    "def creat_seasons_link(i):\n",
    "    year=2021-i\n",
    "    if year<=2007:\n",
    "        year=year-1\n",
    "    return (\"https://www.uefa.com/uefachampionsleague/history/seasons/\"+str(year)+\"/\")\n",
    "\n",
    "def get_nation(link):\n",
    "    link=\"https://www.uefa.com\"+link\n",
    "    html = urlopen(link)\n",
    "    bs = BeautifulSoup(html, 'html.parser')\n",
    "    return bs.find(\"span\",{'class': 'team-country-name'}).get_text()\n",
    "\n",
    "def get_seasons(link,i):\n",
    "    print(link)\n",
    "    print(i)\n",
    "    html = urlopen(link)\n",
    "    bs = BeautifulSoup(html, 'html.parser')\n",
    "    divs=bs.findAll(\"div\",{'class': 'carousel-item'})\n",
    "    for data in divs:\n",
    "        Group[i].append(data.find(\"p\").get_text().split(\"L\")[0])\n",
    "        for a in data.findAll(\"a\",{'class':'table_team-name_block'}):\n",
    "            country[i].append(get_nation(a.get(\"href\")) )\n",
    "        for span in data.findAll(\"span\",{'class':'team-name js-team-name'}):\n",
    "            teams[i].append(span.get_text().split(\"Playing now\")[0])\n",
    "    "
   ]
  },
  {
   "cell_type": "code",
   "execution_count": 12,
   "metadata": {},
   "outputs": [],
   "source": [
    "Group=[[] for _ in range(10)]\n",
    "teams=[[] for _ in range(10)]\n",
    "country=[[] for _ in range(10)]"
   ]
  },
  {
   "cell_type": "code",
   "execution_count": 15,
   "metadata": {},
   "outputs": [
    {
     "name": "stdout",
     "output_type": "stream",
     "text": [
      "https://www.uefa.com/uefachampionsleague/history/seasons/2020/\n",
      "1\n"
     ]
    },
    {
     "ename": "AttributeError",
     "evalue": "'NoneType' object has no attribute 'get_text'",
     "output_type": "error",
     "traceback": [
      "\u001b[1;31m---------------------------------------------------------------------------\u001b[0m",
      "\u001b[1;31mAttributeError\u001b[0m                            Traceback (most recent call last)",
      "Cell \u001b[1;32mIn [15], line 1\u001b[0m\n\u001b[1;32m----> 1\u001b[0m get_seasons(creat_seasons_link(\u001b[38;5;241m1\u001b[39m),\u001b[38;5;241m1\u001b[39m)\n",
      "Cell \u001b[1;32mIn [14], line 22\u001b[0m, in \u001b[0;36mget_seasons\u001b[1;34m(link, i)\u001b[0m\n\u001b[0;32m     20\u001b[0m Group[i]\u001b[38;5;241m.\u001b[39mappend(data\u001b[38;5;241m.\u001b[39mfind(\u001b[38;5;124m\"\u001b[39m\u001b[38;5;124mp\u001b[39m\u001b[38;5;124m\"\u001b[39m)\u001b[38;5;241m.\u001b[39mget_text()\u001b[38;5;241m.\u001b[39msplit(\u001b[38;5;124m\"\u001b[39m\u001b[38;5;124mL\u001b[39m\u001b[38;5;124m\"\u001b[39m)[\u001b[38;5;241m0\u001b[39m])\n\u001b[0;32m     21\u001b[0m \u001b[38;5;28;01mfor\u001b[39;00m a \u001b[38;5;129;01min\u001b[39;00m data\u001b[38;5;241m.\u001b[39mfindAll(\u001b[38;5;124m\"\u001b[39m\u001b[38;5;124ma\u001b[39m\u001b[38;5;124m\"\u001b[39m,{\u001b[38;5;124m'\u001b[39m\u001b[38;5;124mclass\u001b[39m\u001b[38;5;124m'\u001b[39m:\u001b[38;5;124m'\u001b[39m\u001b[38;5;124mtable_team-name_block\u001b[39m\u001b[38;5;124m'\u001b[39m}):\n\u001b[1;32m---> 22\u001b[0m     country[i]\u001b[38;5;241m.\u001b[39mappend(\u001b[43mget_nation\u001b[49m\u001b[43m(\u001b[49m\u001b[43ma\u001b[49m\u001b[38;5;241;43m.\u001b[39;49m\u001b[43mget\u001b[49m\u001b[43m(\u001b[49m\u001b[38;5;124;43m\"\u001b[39;49m\u001b[38;5;124;43mhref\u001b[39;49m\u001b[38;5;124;43m\"\u001b[39;49m\u001b[43m)\u001b[49m\u001b[43m)\u001b[49m )\n\u001b[0;32m     23\u001b[0m \u001b[38;5;28;01mfor\u001b[39;00m span \u001b[38;5;129;01min\u001b[39;00m data\u001b[38;5;241m.\u001b[39mfindAll(\u001b[38;5;124m\"\u001b[39m\u001b[38;5;124mspan\u001b[39m\u001b[38;5;124m\"\u001b[39m,{\u001b[38;5;124m'\u001b[39m\u001b[38;5;124mclass\u001b[39m\u001b[38;5;124m'\u001b[39m:\u001b[38;5;124m'\u001b[39m\u001b[38;5;124mteam-name js-team-name\u001b[39m\u001b[38;5;124m'\u001b[39m}):\n\u001b[0;32m     24\u001b[0m     teams[i]\u001b[38;5;241m.\u001b[39mappend(span\u001b[38;5;241m.\u001b[39mget_text()\u001b[38;5;241m.\u001b[39msplit(\u001b[38;5;124m\"\u001b[39m\u001b[38;5;124mPlaying now\u001b[39m\u001b[38;5;124m\"\u001b[39m)[\u001b[38;5;241m0\u001b[39m])\n",
      "Cell \u001b[1;32mIn [14], line 11\u001b[0m, in \u001b[0;36mget_nation\u001b[1;34m(link)\u001b[0m\n\u001b[0;32m      9\u001b[0m html \u001b[38;5;241m=\u001b[39m urlopen(link)\n\u001b[0;32m     10\u001b[0m bs \u001b[38;5;241m=\u001b[39m BeautifulSoup(html, \u001b[38;5;124m'\u001b[39m\u001b[38;5;124mhtml.parser\u001b[39m\u001b[38;5;124m'\u001b[39m)\n\u001b[1;32m---> 11\u001b[0m \u001b[38;5;28;01mreturn\u001b[39;00m \u001b[43mbs\u001b[49m\u001b[38;5;241;43m.\u001b[39;49m\u001b[43mfind\u001b[49m\u001b[43m(\u001b[49m\u001b[38;5;124;43m\"\u001b[39;49m\u001b[38;5;124;43mspan\u001b[39;49m\u001b[38;5;124;43m\"\u001b[39;49m\u001b[43m,\u001b[49m\u001b[43m{\u001b[49m\u001b[38;5;124;43m'\u001b[39;49m\u001b[38;5;124;43mclass\u001b[39;49m\u001b[38;5;124;43m'\u001b[39;49m\u001b[43m:\u001b[49m\u001b[43m \u001b[49m\u001b[38;5;124;43m'\u001b[39;49m\u001b[38;5;124;43mteam-country-name\u001b[39;49m\u001b[38;5;124;43m'\u001b[39;49m\u001b[43m}\u001b[49m\u001b[43m)\u001b[49m\u001b[38;5;241;43m.\u001b[39;49m\u001b[43mget_text\u001b[49m()\n",
      "\u001b[1;31mAttributeError\u001b[0m: 'NoneType' object has no attribute 'get_text'"
     ]
    }
   ],
   "source": [
    "get_seasons(creat_seasons_link(1),1)"
   ]
  },
  {
   "cell_type": "code",
   "execution_count": 7,
   "metadata": {},
   "outputs": [
    {
     "name": "stdout",
     "output_type": "stream",
     "text": [
      "3.10.7 (tags/v3.10.7:6cc6b13, Sep  5 2022, 14:08:36) [MSC v.1933 64 bit (AMD64)]\n",
      "sys.version_info(major=3, minor=10, micro=7, releaselevel='final', serial=0)\n",
      "python 3.10.7\n"
     ]
    }
   ],
   "source": [
    "print(sys.version)\n",
    "print(sys.version_info)\n",
    "print(\"python \"+platform.python_version())"
   ]
  },
  {
   "cell_type": "code",
   "execution_count": 35,
   "metadata": {},
   "outputs": [],
   "source": [
    "\n",
    "address =\"https://www.365chess.com/opening.php?\"\n",
    "temp=\"\"\n",
    "Keys=[]\n",
    "Moves=[]\n",
    "app = fs.Flask(__name__)"
   ]
  },
  {
   "cell_type": "code",
   "execution_count": 36,
   "metadata": {},
   "outputs": [],
   "source": [
    "def Make_url(key):\n",
    "    url=address+key\n",
    "    return url"
   ]
  },
  {
   "cell_type": "code",
   "execution_count": 37,
   "metadata": {},
   "outputs": [],
   "source": [
    "def check(key):\n",
    "    b = b'No'\n",
    "    temp=str(key)\n",
    "    key=temp.split(\"'\")[1].split(\"'\")[0].split(\"+\")[0]\n",
    "    #print(key)\n",
    "\n",
    "    move=temp.split(\"'\")[1].split(\"'\")[0].split(\"+\")[1]\n",
    "    #print(move)\n",
    "\n",
    "    r=requests.get(Make_url(key))\n",
    "    Soup=BeautifulSoup(r.text,\"lxml\")\n",
    "    tags=Soup.find_all(\"a\")\n",
    "    for tag in tags:\n",
    "        temp=str(tag.get(\"href\"))\n",
    "        if temp.startswith(\"/opening.php?\"):\n",
    "            temp_1=str(tag)\n",
    "            Keys.append(temp.split(\"?\")[1])\n",
    "            Moves.append(temp_1.split(\". \")[1].split(\"<\")[0])\n",
    "    if move in Moves:\n",
    "        i=Moves.index(move)\n",
    "        print(move)\n",
    "        print(i)\n",
    "        Keys[i]=bytes(Keys[i],'utf-8')\n",
    "        return Keys[i]\n",
    "    else:\n",
    "        return b"
   ]
  },
  {
   "cell_type": "code",
   "execution_count": null,
   "metadata": {},
   "outputs": [],
   "source": [
    "def check(key,move):\n",
    "    b = b'No'\n",
    "    key=str(key)\n",
    "    key=key.split(\"'\")[1].split(\"'\")[0]\n",
    "    r=requests.get(Make_url(key))\n",
    "    Soup=BeautifulSoup(r.text,\"lxml\")\n",
    "    tags=Soup.find_all(\"a\")\n",
    "    for tag in tags:\n",
    "        temp=str(tag.get(\"href\"))\n",
    "        if temp.startswith(\"/opening.php?\"):\n",
    "            temp_1=str(tag)\n",
    "            Keys.append(temp.split(\"?\")[1])\n",
    "            Moves.append(temp_1.split(\". \")[1].split(\"<\")[0])\n",
    "    if move in Moves:\n",
    "        i=Moves.index(move)\n",
    "        Keys[i]=bytes(Keys[i],'utf-8')\n",
    "        return Keys[0]\n",
    "    else:\n",
    "        return b"
   ]
  },
  {
   "cell_type": "code",
   "execution_count": 39,
   "metadata": {},
   "outputs": [
    {
     "ename": "IndexError",
     "evalue": "list index out of range",
     "output_type": "error",
     "traceback": [
      "\u001b[1;31m---------------------------------------------------------------------------\u001b[0m",
      "\u001b[1;31mIndexError\u001b[0m                                Traceback (most recent call last)",
      "Cell \u001b[1;32mIn [39], line 1\u001b[0m\n\u001b[1;32m----> 1\u001b[0m check(\u001b[38;5;124m\"\u001b[39m\u001b[38;5;124mm=1&n=1\u001b[39m\u001b[38;5;124m\"\u001b[39m)\n",
      "Cell \u001b[1;32mIn [37], line 4\u001b[0m, in \u001b[0;36mcheck\u001b[1;34m(key)\u001b[0m\n\u001b[0;32m      2\u001b[0m b \u001b[38;5;241m=\u001b[39m \u001b[38;5;124mb\u001b[39m\u001b[38;5;124m'\u001b[39m\u001b[38;5;124mNo\u001b[39m\u001b[38;5;124m'\u001b[39m\n\u001b[0;32m      3\u001b[0m temp\u001b[38;5;241m=\u001b[39m\u001b[38;5;28mstr\u001b[39m(key)\n\u001b[1;32m----> 4\u001b[0m key\u001b[38;5;241m=\u001b[39m\u001b[43mtemp\u001b[49m\u001b[38;5;241;43m.\u001b[39;49m\u001b[43msplit\u001b[49m\u001b[43m(\u001b[49m\u001b[38;5;124;43m\"\u001b[39;49m\u001b[38;5;124;43m'\u001b[39;49m\u001b[38;5;124;43m\"\u001b[39;49m\u001b[43m)\u001b[49m\u001b[43m[\u001b[49m\u001b[38;5;241;43m1\u001b[39;49m\u001b[43m]\u001b[49m\u001b[38;5;241m.\u001b[39msplit(\u001b[38;5;124m\"\u001b[39m\u001b[38;5;124m'\u001b[39m\u001b[38;5;124m\"\u001b[39m)[\u001b[38;5;241m0\u001b[39m]\u001b[38;5;241m.\u001b[39msplit(\u001b[38;5;124m\"\u001b[39m\u001b[38;5;124m+\u001b[39m\u001b[38;5;124m\"\u001b[39m)[\u001b[38;5;241m0\u001b[39m]\n\u001b[0;32m      5\u001b[0m \u001b[38;5;66;03m#print(key)\u001b[39;00m\n\u001b[0;32m      7\u001b[0m move\u001b[38;5;241m=\u001b[39mtemp\u001b[38;5;241m.\u001b[39msplit(\u001b[38;5;124m\"\u001b[39m\u001b[38;5;124m'\u001b[39m\u001b[38;5;124m\"\u001b[39m)[\u001b[38;5;241m1\u001b[39m]\u001b[38;5;241m.\u001b[39msplit(\u001b[38;5;124m\"\u001b[39m\u001b[38;5;124m'\u001b[39m\u001b[38;5;124m\"\u001b[39m)[\u001b[38;5;241m0\u001b[39m]\u001b[38;5;241m.\u001b[39msplit(\u001b[38;5;124m\"\u001b[39m\u001b[38;5;124m+\u001b[39m\u001b[38;5;124m\"\u001b[39m)[\u001b[38;5;241m1\u001b[39m]\n",
      "\u001b[1;31mIndexError\u001b[0m: list index out of range"
     ]
    }
   ],
   "source": [
    "check(\"m=1&n=1\")"
   ]
  }
 ],
 "metadata": {
  "kernelspec": {
   "display_name": "Python 3.10.7 64-bit",
   "language": "python",
   "name": "python3"
  },
  "language_info": {
   "codemirror_mode": {
    "name": "ipython",
    "version": 3
   },
   "file_extension": ".py",
   "mimetype": "text/x-python",
   "name": "python",
   "nbconvert_exporter": "python",
   "pygments_lexer": "ipython3",
   "version": "3.10.7"
  },
  "orig_nbformat": 4,
  "vscode": {
   "interpreter": {
    "hash": "c897a75f463eb9d412d540858316017eaae110ed1ce804d84dfa1a165b326da2"
   }
  }
 },
 "nbformat": 4,
 "nbformat_minor": 2
}
